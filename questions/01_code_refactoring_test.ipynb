{
 "cells": [
  {
   "cell_type": "markdown",
   "metadata": {},
   "source": [
    "<h1><center>SAP IES AICOE\n",
    "    TAKE-HOME TEST</center></h1>\n",
    "<h2><center>Code Refactoring</center></h2>"
   ]
  },
  {
   "attachments": {},
   "cell_type": "markdown",
   "metadata": {},
   "source": [
    "## Guideline:\n",
    "- Refactor the `func` function.\n",
    "- Investigate in the functionality of this function and refactor it based on your understanding.\n",
    "- You may have different interpretations of the questions. If in doubt, you can make any logical assumption, and justify in your presentation.\n",
    "- In the presentation deck, please:\n",
    "    - Describe the intent of this function.\n",
    "    - Identify all problems with this function."
   ]
  },
  {
   "cell_type": "markdown",
   "metadata": {},
   "source": [
    "## Question:"
   ]
  },
  {
   "cell_type": "code",
   "execution_count": 14,
   "metadata": {},
   "outputs": [],
   "source": [
    "def func():\n",
    "    s = [i * i for i in range(10)]\n",
    "    s_p_three = [i + 3 for i in s]\n",
    "    r1 = min(s_p_three)\n",
    "    s = [i * i for i in range(1, 11)]\n",
    "    s_p_two = [i + 2 for i in s]\n",
    "    r2 = min(s_p_two)\n",
    "    s = [i * i for i in range(3, 7)]\n",
    "    s_p_five = [i + 5 for i in s]\n",
    "    r3 = min(s_p_five)\n",
    "    return r1, r2, r3"
   ]
  },
  {
   "cell_type": "markdown",
   "metadata": {},
   "source": [
    "## Answer:"
   ]
  },
  {
   "attachments": {},
   "cell_type": "markdown",
   "metadata": {},
   "source": [
    "#### Function Analysis"
   ]
  },
  {
   "attachments": {},
   "cell_type": "markdown",
   "metadata": {},
   "source": [
    "At first glance, the function is returning 3 minimum values:\n",
    "* Minimum of i<sup>2</sup> + 3, where i is from 0 to 9\n",
    "* Minimum of i<sup>2</sup> + 2, where i is from 1 to 10\n",
    "* Minimum of i<sup>2</sup> + 5, where i is from 3 to 6"
   ]
  },
  {
   "attachments": {},
   "cell_type": "markdown",
   "metadata": {},
   "source": [
    "#### Issues"
   ]
  },
  {
   "attachments": {},
   "cell_type": "markdown",
   "metadata": {},
   "source": [
    "Here are some identified issues with the existing implementation:\n",
    "* Hardcoded variable values for the start and end values for each lists.\n",
    "* Hardcoded variable values for the linear transformation."
   ]
  },
  {
   "attachments": {},
   "cell_type": "markdown",
   "metadata": {},
   "source": [
    "#### Assumptions"
   ]
  },
  {
   "attachments": {},
   "cell_type": "markdown",
   "metadata": {},
   "source": [
    "* The transformation is only limited to linear transformation (i.e., no multiplication/division of each i by a k constant)\n",
    "\n",
    "* Start and end values, and the transformation values are not passed into *func()* as parameters, but directly edited within *func()*."
   ]
  },
  {
   "attachments": {},
   "cell_type": "markdown",
   "metadata": {},
   "source": [
    "#### Optimised Code"
   ]
  },
  {
   "cell_type": "code",
   "execution_count": 18,
   "metadata": {},
   "outputs": [],
   "source": [
    "# Begin your code here\n",
    "def calculate_min(start, end, transformation):\n",
    "    s = [i * i for i in range(start, end)]\n",
    "    s_p = [i + transformation for i in s]\n",
    "    return min(s_p)\n",
    "\n",
    "def optimised_func():\n",
    "    r1 = calculate_min(0, 10, 3)\n",
    "    r2 = calculate_min(1, 11, 2)\n",
    "    r3 = calculate_min(3, 7, 5)\n",
    "    return r1, r2, r3"
   ]
  },
  {
   "attachments": {},
   "cell_type": "markdown",
   "metadata": {},
   "source": [
    "#### Test"
   ]
  },
  {
   "cell_type": "code",
   "execution_count": 19,
   "metadata": {},
   "outputs": [
    {
     "name": "stdout",
     "output_type": "stream",
     "text": [
      "(3, 3, 14)\n",
      "(3, 3, 14)\n"
     ]
    }
   ],
   "source": [
    "print(func())\n",
    "print(optimised_func())"
   ]
  }
 ],
 "metadata": {
  "kernelspec": {
   "display_name": "Python 3",
   "language": "python",
   "name": "python3"
  },
  "language_info": {
   "codemirror_mode": {
    "name": "ipython",
    "version": 3
   },
   "file_extension": ".py",
   "mimetype": "text/x-python",
   "name": "python",
   "nbconvert_exporter": "python",
   "pygments_lexer": "ipython3",
   "version": "3.11.1"
  },
  "vscode": {
   "interpreter": {
    "hash": "5238573367df39f7286bb46f9ff5f08f63a01a80960060ce41e3c79b190280fa"
   }
  }
 },
 "nbformat": 4,
 "nbformat_minor": 2
}
